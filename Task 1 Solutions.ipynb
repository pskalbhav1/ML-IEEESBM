{
 "cells": [
  {
   "cell_type": "code",
   "execution_count": 1,
   "metadata": {},
   "outputs": [
    {
     "name": "stdout",
     "output_type": "stream",
     "text": [
      "3\n",
      "A\n"
     ]
    }
   ],
   "source": [
    "#1\n",
    "tuplex = (\"I\", \"E\" , 3, \"E\", \"S\", \"B\", \"M\", \"F\", \"A\", \"M\")\n",
    "item = tuplex[2]\n",
    "item1= tuplex[-2]\n",
    "print(item)\n",
    "print(item1)"
   ]
  },
  {
   "cell_type": "code",
   "execution_count": 2,
   "metadata": {},
   "outputs": [
    {
     "name": "stdout",
     "output_type": "stream",
     "text": [
      "['Proud', 'to', 'be', 'part', 'of', 'IEEESBM', 'family']\n"
     ]
    }
   ],
   "source": [
    "#2\n",
    "l1 = [\"Pro\",\"t\",\"b\",\"pa\",\"o\",\"IEEE\",\"fam\"]\n",
    "l2 = [ \"ud\",\"o\",\"e\",\"rt\",\"f\",\"SBM\",\"ily\"]\n",
    "l3=[]\n",
    "for i in range(len(l1)):\n",
    "    l3.append(l1[i]+l2[i])\n",
    "print(l3)"
   ]
  },
  {
   "cell_type": "code",
   "execution_count": 3,
   "metadata": {},
   "outputs": [
    {
     "data": {
      "text/plain": [
       "['a', 'b', ['c', ['d', 'e', ['f', 'g', 'h', 'i', 'j'], 'k'], 'l'], 'm', 'n']"
      ]
     },
     "execution_count": 3,
     "metadata": {},
     "output_type": "execute_result"
    }
   ],
   "source": [
    "#3\n",
    "list1 = [\"a\", \"b\", [\"c\", [\"d\", \"e\", [\"f\", \"g\"], \"k\"], \"l\"], \"m\", \"n\"]  \n",
    "list1[2][1][2].extend([\"h\",\"i\",\"j\"])\n",
    "list1"
   ]
  },
  {
   "cell_type": "code",
   "execution_count": 4,
   "metadata": {},
   "outputs": [
    {
     "data": {
      "text/plain": [
       "{10}"
      ]
     },
     "execution_count": 4,
     "metadata": {},
     "output_type": "execute_result"
    }
   ],
   "source": [
    "#4\n",
    "set1 = {10, 20, 30, 40, 50}\n",
    "set2 = {60, 70, 80, 90, 10}\n",
    "set1.intersection(set2)"
   ]
  },
  {
   "cell_type": "code",
   "execution_count": 5,
   "metadata": {},
   "outputs": [
    {
     "name": "stdout",
     "output_type": "stream",
     "text": [
      "5\n",
      "2\n",
      "3\n",
      "6\n",
      "6\n",
      "5\n",
      "5\n"
     ]
    }
   ],
   "source": [
    "#5\n",
    "l=[]\n",
    "n=int(input(\"\"))\n",
    "for i in range(n):\n",
    "    inp=int(input(\"\"))\n",
    "    l.append(inp)\n",
    "l.sort()\n",
    "win=l[n-1]\n",
    "for i in range(n-1,-1,-1):\n",
    "    if(l[i]<win):\n",
    "        print(l[i])\n",
    "        break\n"
   ]
  },
  {
   "cell_type": "code",
   "execution_count": 6,
   "metadata": {},
   "outputs": [
    {
     "name": "stdout",
     "output_type": "stream",
     "text": [
      "385\n",
      "165\n",
      "33\n",
      "0\n",
      "-220\n",
      "-66\n"
     ]
    }
   ],
   "source": [
    "#6\n",
    "num_list =[ 20, 67, 385 ,165 , 52, 33, -19 , 0 , -220 , -66]\n",
    "result= lambda x: True if(x%33==0 or x%55==0) else False\n",
    "for i in num_list:\n",
    "    if result(i):\n",
    "        print(i)"
   ]
  },
  {
   "cell_type": "code",
   "execution_count": 7,
   "metadata": {},
   "outputs": [
    {
     "name": "stdout",
     "output_type": "stream",
     "text": [
      "4\n"
     ]
    }
   ],
   "source": [
    "#7\n",
    "def upper(s):\n",
    "    n=0\n",
    "    for a in s:\n",
    "        if a.isupper():\n",
    "            n=n+1\n",
    "    return n\n",
    "print(upper(\"01CoMputer07ScienCe\"))\n"
   ]
  },
  {
   "cell_type": "code",
   "execution_count": 8,
   "metadata": {},
   "outputs": [
    {
     "name": "stdout",
     "output_type": "stream",
     "text": [
      "Raj\n",
      "ram\n",
      "SAM\n"
     ]
    }
   ],
   "source": [
    "#8\n",
    "def age_name(age,name):\n",
    "    if age in range(18):\n",
    "        print(name.lower())\n",
    "    elif age in range(18,30): \n",
    "        name=name.lower()\n",
    "        s=name[0].upper()\n",
    "        print(s+name[1:])\n",
    "    else: \n",
    "        print(name.upper())\n",
    "age_name(22,\"raj\")\n",
    "age_name(10,\"ram\")\n",
    "age_name(78,\"sam\")"
   ]
  },
  {
   "cell_type": "code",
   "execution_count": 9,
   "metadata": {},
   "outputs": [
    {
     "name": "stdout",
     "output_type": "stream",
     "text": [
      "22 10 11 32 78\n",
      "22\n"
     ]
    }
   ],
   "source": [
    "#9\n",
    "l=[int(i) for i in input().split()]\n",
    "l2=list(set(l))\n",
    "l2.sort()\n",
    "print(l2[-3])\n"
   ]
  },
  {
   "cell_type": "code",
   "execution_count": 10,
   "metadata": {},
   "outputs": [
    {
     "name": "stdout",
     "output_type": "stream",
     "text": [
      "2\n"
     ]
    }
   ],
   "source": [
    "#10\n",
    "list=['abca', 'xyzhgf', 'aba', '1225']\n",
    "count=0\n",
    "for i in list:\n",
    "    if len(list)>=4 and i[0]!=i[-1]:\n",
    "        count+=1\n",
    "print(count)"
   ]
  },
  {
   "cell_type": "code",
   "execution_count": null,
   "metadata": {},
   "outputs": [],
   "source": []
  }
 ],
 "metadata": {
  "kernelspec": {
   "display_name": "Python 3",
   "language": "python",
   "name": "python3"
  },
  "language_info": {
   "codemirror_mode": {
    "name": "ipython",
    "version": 3
   },
   "file_extension": ".py",
   "mimetype": "text/x-python",
   "name": "python",
   "nbconvert_exporter": "python",
   "pygments_lexer": "ipython3",
   "version": "3.8.3"
  }
 },
 "nbformat": 4,
 "nbformat_minor": 4
}
