{
 "cells": [
  {
   "cell_type": "markdown",
   "metadata": {},
   "source": [
    "1] Write a program to print the 3rd element and the 2nd last element of a tuple. (Save as tuple.py)\n"
   ]
  },
  {
   "cell_type": "code",
   "execution_count": 1,
   "metadata": {},
   "outputs": [
    {
     "name": "stdout",
     "output_type": "stream",
     "text": [
      "30\n",
      "50\n"
     ]
    }
   ],
   "source": [
    "def print_tuple(t):\n",
    "    print(t[2])\n",
    "    print(t[-2])\n",
    "t=(10,20,30,40,50,60)\n",
    "print_tuple(t)"
   ]
  },
  {
   "cell_type": "code",
   "execution_count": null,
   "metadata": {},
   "outputs": [],
   "source": []
  },
  {
   "cell_type": "markdown",
   "metadata": {},
   "source": [
    "2] Concatenate two Lists index-wise                                                        \n",
    "List 1 = [ “Pro”, “t”, “b”, “pa”, “o”, “IEEE”, “fam”]\n",
    "\n",
    "List 2 = [ “ud”, “o”, “e”, “rt”, “f”, “SBM”, “ily”]\n",
    "\n",
    "Expected Output = [ “Proud “, “to”, “be”, “part”, “of”, “IEEESBM”, “family”]"
   ]
  },
  {
   "cell_type": "code",
   "execution_count": 4,
   "metadata": {},
   "outputs": [
    {
     "data": {
      "text/plain": [
       "['Proud', 'to', 'be', 'part', 'of', 'IEEESBM', 'family']"
      ]
     },
     "execution_count": 4,
     "metadata": {},
     "output_type": "execute_result"
    }
   ],
   "source": [
    "def list_index(l1,l2):\n",
    "    l3=[]\n",
    "    for i in range(len(l1)):\n",
    "        l3.append(l1[i]+l2[i])\n",
    "    return l3\n",
    "l1 = [\"Pro\",\"t\",\"b\",\"pa\",\"o\",\"IEEE\",\"fam\"]\n",
    "l2 = [ \"ud\",\"o\",\"e\",\"rt\",\"f\",\"SBM\",\"ily\"]\n",
    "list_index(l1,l2)"
   ]
  },
  {
   "cell_type": "code",
   "execution_count": null,
   "metadata": {},
   "outputs": [],
   "source": []
  },
  {
   "cell_type": "markdown",
   "metadata": {},
   "source": [
    "3] Given a nested list extend it with adding sub list [\"h\", \"i\", \"j\"] in a such a way that it will look like the following list\n",
    "Given List:                                                                                                                                                    list1 = [\"a\", \"b\", [\"c\", [\"d\", \"e\", [\"f\", \"g\"], \"k\"], \"l\"], \"m\", \"n\"]                                          \n",
    "Sub List to be added = [\"h\", \"i\", \"j\"]\n",
    "\n",
    "Expected output: ['a', 'b', ['c', ['d', 'e', ['f', 'g', 'h', 'i', 'j'], 'k'], 'l'], 'm', 'n']\n"
   ]
  },
  {
   "cell_type": "code",
   "execution_count": 19,
   "metadata": {},
   "outputs": [
    {
     "data": {
      "text/plain": [
       "['a', 'b', ['c', ['d', 'e', ['f', 'g', 'h', 'i', 'j'], 'k'], 'l'], 'm', 'n']"
      ]
     },
     "execution_count": 19,
     "metadata": {},
     "output_type": "execute_result"
    }
   ],
   "source": [
    "list1 = [\"a\", \"b\", [\"c\", [\"d\", \"e\", [\"f\", \"g\"], \"k\"], \"l\"], \"m\", \"n\"]  \n",
    "list1[2][1][2].extend([\"h\",\"i\",\"j\"])\n",
    "list1"
   ]
  },
  {
   "cell_type": "code",
   "execution_count": null,
   "metadata": {},
   "outputs": [],
   "source": []
  },
  {
   "cell_type": "markdown",
   "metadata": {},
   "source": [
    "4] Determines whether or not the following two sets have any elements in common. If yes display the common elements\n",
    "\n",
    "set1 = {10, 20, 30, 40, 50}\n",
    "\n",
    "set2 = {60, 70, 80, 90, 10}\n",
    "\n",
    "Expected output: {10}   \n"
   ]
  },
  {
   "cell_type": "code",
   "execution_count": 23,
   "metadata": {},
   "outputs": [
    {
     "data": {
      "text/plain": [
       "{10}"
      ]
     },
     "execution_count": 23,
     "metadata": {},
     "output_type": "execute_result"
    }
   ],
   "source": [
    "set1 = {10, 20, 30, 40, 50}\n",
    "set2 = {60, 70, 80, 90, 10}\n",
    "set1.intersection(set2)"
   ]
  },
  {
   "cell_type": "code",
   "execution_count": null,
   "metadata": {},
   "outputs": [],
   "source": []
  },
  {
   "cell_type": "markdown",
   "metadata": {},
   "source": [
    "5] Given the participants' score sheet for your University Sports Day, you are required to find the runner-up score. You are given n  scores. Store them in a list and find the score of the runner-up.\n",
    "\n",
    "Input Format : The first line contains n . The second line contains an array   of  integers each separated by a space.\n",
    "\n",
    "Output Format: Print the runner-up score.\n",
    "\n",
    "Sample Input 0\n",
    "\n",
    "5\n",
    "\n",
    "2 3 6 6 5\n",
    "\n",
    "Sample Output 0\n",
    "\n",
    "5                                    \n"
   ]
  },
  {
   "cell_type": "code",
   "execution_count": 35,
   "metadata": {},
   "outputs": [
    {
     "name": "stdout",
     "output_type": "stream",
     "text": [
      "5\n",
      "2 3 6 6 5\n",
      "5\n"
     ]
    }
   ],
   "source": [
    "n=int(input())\n",
    "l=[int(i) for i in input().split()]\n",
    "print(list(set(l))[-2])"
   ]
  },
  {
   "cell_type": "code",
   "execution_count": null,
   "metadata": {},
   "outputs": [],
   "source": []
  },
  {
   "cell_type": "markdown",
   "metadata": {},
   "source": [
    "6] Write a lambda function to print numbers from a given list that are divisible by 33 or 55\n",
    "\n",
    "EXAMPLE:\n",
    "\n",
    "Input -> List = [ 20, 67, 385 ,165 , 52, 33, -19 , 0 , -220 , -66]                                     \n",
    "\n",
    "Output -> 385 165 33 0 -220 -66   "
   ]
  },
  {
   "cell_type": "code",
   "execution_count": 43,
   "metadata": {},
   "outputs": [
    {
     "name": "stdout",
     "output_type": "stream",
     "text": [
      "385 165 33 0 -220 -66 "
     ]
    }
   ],
   "source": [
    "l=[ 20, 67, 385 ,165 , 52, 33, -19 , 0 , -220 , -66]\n",
    "check=lambda x: True if(x%33==0 or x%55==0) else False\n",
    "for i in l:\n",
    "    if check(i):\n",
    "        print(i, end=\" \")"
   ]
  },
  {
   "cell_type": "code",
   "execution_count": null,
   "metadata": {},
   "outputs": [],
   "source": []
  },
  {
   "cell_type": "markdown",
   "metadata": {},
   "source": [
    "7] Write a function that accepts a string and returns the number of uppercase characters in it. The string can contain alphanumeric characters only\n",
    "\n",
    "EXAMPLE:                                                                                                                  \n",
    "\n",
    "Input -> 01CoMputer07ScienCe\n",
    "\n",
    "Output -> 4  "
   ]
  },
  {
   "cell_type": "code",
   "execution_count": 3,
   "metadata": {},
   "outputs": [
    {
     "name": "stdout",
     "output_type": "stream",
     "text": [
      "4\n"
     ]
    }
   ],
   "source": [
    "def count(s):\n",
    "    l=[i for i in s if i.isupper()]\n",
    "    print(len(l))\n",
    "count(\"01CoMputer07ScienCe\")"
   ]
  },
  {
   "cell_type": "code",
   "execution_count": null,
   "metadata": {},
   "outputs": [],
   "source": []
  },
  {
   "cell_type": "markdown",
   "metadata": {},
   "source": [
    "8] Write a program which takes an input of age and name of a person and returns on output with the following conditions:\n",
    "    \n",
    "If 0 < age < 18 : print the name in all small \n",
    "\n",
    "If 18 < age < 30 : print the name where only first letter will be in caps\n",
    "\n",
    "If age>30, then print the names all in capital letters\n",
    "\n",
    "Example → i/p: 22 raj o/p: Raj\n",
    "\t        i/p: 10 ram o/p: ram\n",
    "        i/p: 78 sam o/p: SAM\n"
   ]
  },
  {
   "cell_type": "code",
   "execution_count": 37,
   "metadata": {},
   "outputs": [
    {
     "name": "stdout",
     "output_type": "stream",
     "text": [
      "Raj\n",
      "ram\n",
      "SAM\n"
     ]
    }
   ],
   "source": [
    "def age_name(age,name):\n",
    "    if age in range(18):\n",
    "        print(name.lower())\n",
    "    elif age in range(18,30): #Since it wasnt mentioned in the question where to take the case age=18, taken it here\n",
    "        name=name.lower()\n",
    "        s=name[0].upper()\n",
    "        print(s+name[1:])\n",
    "    else: #Since it wasnt mentioned in the question where to take the case age=30, taken it here\n",
    "        print(name.upper())\n",
    "age_name(22,\"raj\")\n",
    "age_name(10,\"ram\")\n",
    "age_name(78,\"sam\")"
   ]
  },
  {
   "cell_type": "code",
   "execution_count": null,
   "metadata": {},
   "outputs": [],
   "source": []
  },
  {
   "cell_type": "markdown",
   "metadata": {},
   "source": [
    "9] Write a program that takes an input of a minimum of 5 numbers and o/p the third least number.\n",
    "\n",
    "Example → i/p: 22, 10, 11, 32, 78\n",
    "\n",
    "o/p: 22\n"
   ]
  },
  {
   "cell_type": "code",
   "execution_count": 29,
   "metadata": {},
   "outputs": [
    {
     "name": "stdout",
     "output_type": "stream",
     "text": [
      "22 10 11 32 78\n",
      "22\n"
     ]
    }
   ],
   "source": [
    "l=[int(i) for i in input().split()]\n",
    "l2=list(set(l))\n",
    "l2.sort()\n",
    "print(l2[-3])"
   ]
  },
  {
   "cell_type": "code",
   "execution_count": null,
   "metadata": {},
   "outputs": [],
   "source": []
  },
  {
   "cell_type": "markdown",
   "metadata": {},
   "source": [
    "10] Write a Python program to count the number of strings where the string length is 4 or more and the first and last character are different from a given list of strings.\n",
    "\n",
    "Input:['abca', 'xyzhgf', 'aba', '1225']\n",
    "\n",
    "Expected Output: 2\n"
   ]
  },
  {
   "cell_type": "code",
   "execution_count": 44,
   "metadata": {},
   "outputs": [
    {
     "name": "stdout",
     "output_type": "stream",
     "text": [
      "2\n"
     ]
    }
   ],
   "source": [
    "l=['abca', 'xyzhgf', 'aba', '1225']\n",
    "count=0\n",
    "for i in l:\n",
    "    if len(l)>=4 and i[0]!=i[-1]:\n",
    "        count+=1\n",
    "print(count)"
   ]
  },
  {
   "cell_type": "code",
   "execution_count": null,
   "metadata": {},
   "outputs": [],
   "source": []
  }
 ],
 "metadata": {
  "kernelspec": {
   "display_name": "Python 3",
   "language": "python",
   "name": "python3"
  },
  "language_info": {
   "codemirror_mode": {
    "name": "ipython",
    "version": 3
   },
   "file_extension": ".py",
   "mimetype": "text/x-python",
   "name": "python",
   "nbconvert_exporter": "python",
   "pygments_lexer": "ipython3",
   "version": "3.8.3"
  }
 },
 "nbformat": 4,
 "nbformat_minor": 4
}
