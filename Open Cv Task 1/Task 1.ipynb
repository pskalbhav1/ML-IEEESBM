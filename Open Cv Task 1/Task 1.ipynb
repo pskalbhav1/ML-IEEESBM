{
 "cells": [
  {
   "cell_type": "code",
   "execution_count": 1,
   "id": "29261fd5",
   "metadata": {},
   "outputs": [],
   "source": [
    "import numpy as np\n",
    "import cv2"
   ]
  },
  {
   "cell_type": "code",
   "execution_count": 2,
   "id": "e1a1aeac",
   "metadata": {},
   "outputs": [
    {
     "data": {
      "text/plain": [
       "<function destroyAllWindows>"
      ]
     },
     "execution_count": 2,
     "metadata": {},
     "output_type": "execute_result"
    }
   ],
   "source": [
    "img1=cv2.imread('1.jpg',cv2.IMREAD_COLOR)\n",
    "img3=cv2.resize(img1, (200, 200))\n",
    "img2=cv2.imread('2.jpg',cv2.IMREAD_COLOR)\n",
    "\n",
    "face1=img2[15:140,85:170]\n",
    "face2=img3[30:110,50:140]\n",
    "#face1 85x125\n",
    "#face2 90x80\n",
    "\n",
    "face3=cv2.resize(face1, (90, 80))\n",
    "face4=cv2.resize(face2, (85, 125))\n",
    "\n",
    "\n",
    "img3[30:110,50:140]=face3\n",
    "img2[15:140,85:170]=face4\n",
    "cv2.rectangle(img2,(85,15),(170,140),(0,255,0),2)\n",
    "\n",
    "cv2.rectangle(img3,(50,30),(140,110),(255,0,0),2)\n",
    "\n",
    "font = cv2.FONT_HERSHEY_SIMPLEX\n",
    "cv2.putText(img2,'Suryaansh',(85,170),font,0.5,(0,0,255),1, cv2.LINE_AA)\n",
    "cv2.putText(img3,'Robert Downey Jr.',(40,140),font,0.5,(0,0,255),1, cv2.LINE_AA)\n",
    "\n",
    "cv2.imshow('Suryaansh',img3)\n",
    "cv2.imshow('RDJ',img2)\n",
    "\n",
    "cv2.waitKey(0)\n",
    "cv2.destroyAllWindows"
   ]
  },
  {
   "cell_type": "code",
   "execution_count": null,
   "id": "db480f7c",
   "metadata": {},
   "outputs": [],
   "source": []
  }
 ],
 "metadata": {
  "kernelspec": {
   "display_name": "Python 3",
   "language": "python",
   "name": "python3"
  },
  "language_info": {
   "codemirror_mode": {
    "name": "ipython",
    "version": 3
   },
   "file_extension": ".py",
   "mimetype": "text/x-python",
   "name": "python",
   "nbconvert_exporter": "python",
   "pygments_lexer": "ipython3",
   "version": "3.9.6"
  }
 },
 "nbformat": 4,
 "nbformat_minor": 5
}
