{
 "cells": [
  {
   "cell_type": "code",
   "execution_count": null,
   "id": "d082fb4b",
   "metadata": {},
   "outputs": [],
   "source": [
    "import cv2\n",
    "import numpy as np\n"
   ]
  },
  {
   "cell_type": "code",
   "execution_count": null,
   "id": "ac4972d9",
   "metadata": {},
   "outputs": [],
   "source": [
    "img=cv2.imread('mountain.png',cv2.COLOR_BGR2RGB);\n",
    "resizedimg=cv2.resize(img,(100,100),interpolation=cv2.INTER_AREA);\n",
    "\n"
   ]
  },
  {
   "cell_type": "code",
   "execution_count": null,
   "id": "f821b451",
   "metadata": {},
   "outputs": [],
   "source": [
    "vid=cv2.VideoCapture('dog.mp4')\n",
    "fourcc=cv2.VideoWriter_fourcc(*'XVID')\n",
    "out=cv2.VideoWriter('output.avi',fourcc,20.0,(848,400))"
   ]
  },
  {
   "cell_type": "code",
   "execution_count": null,
   "id": "95510ebc",
   "metadata": {},
   "outputs": [],
   "source": [
    "while True:\n",
    "    istrue,frame=vid.read()\n",
    "    addimg=cv2.addWeighted(frame[300:400,748:848],0.3,img[426:526,440:540],0.7,0)\n",
    "    frame[300:400,748:848]=addimg\n",
    "    out.write(frame)\n",
    "    cv2.imshow('doggy',frame)\n",
    "    if cv2.waitKey(20) & 0xFF==ord('q'):\n",
    "        break;"
   ]
  },
  {
   "cell_type": "code",
   "execution_count": null,
   "id": "a0258646",
   "metadata": {},
   "outputs": [],
   "source": [
    "out.release()\n",
    "cv2.waitKey(0)\n",
    "cv2.destroyAllWindows()\n"
   ]
  },
  {
   "cell_type": "code",
   "execution_count": null,
   "id": "27995d1f",
   "metadata": {},
   "outputs": [],
   "source": []
  }
 ],
 "metadata": {
  "kernelspec": {
   "display_name": "Python 3",
   "language": "python",
   "name": "python3"
  },
  "language_info": {
   "codemirror_mode": {
    "name": "ipython",
    "version": 3
   },
   "file_extension": ".py",
   "mimetype": "text/x-python",
   "name": "python",
   "nbconvert_exporter": "python",
   "pygments_lexer": "ipython3",
   "version": "3.8.5"
  }
 },
 "nbformat": 4,
 "nbformat_minor": 5
}
