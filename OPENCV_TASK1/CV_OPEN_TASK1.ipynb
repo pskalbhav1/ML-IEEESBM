{
 "cells": [
  {
   "cell_type": "code",
   "execution_count": null,
   "id": "93541bb6",
   "metadata": {},
   "outputs": [],
   "source": [
    "import cv2\n",
    "import numpy as np\n"
   ]
  },
  {
   "cell_type": "code",
   "execution_count": null,
   "id": "a20c492d",
   "metadata": {},
   "outputs": [],
   "source": [
    "#-------------------------cv2 reading the image-----------------------------#\n",
    "img1=cv2.imread('jackandrose.jpg',cv2.IMREAD_COLOR)\n",
    "\n",
    "cv2.imshow('jack and rose',img1)\n",
    "cv2.waitKey(0)\n",
    "cv2.destroyAllWindows()"
   ]
  },
  {
   "cell_type": "code",
   "execution_count": null,
   "id": "c6871e18",
   "metadata": {},
   "outputs": [],
   "source": [
    "#----------------------------SWAPPING TWO IMAGES-----------------------------#\n",
    "rose=img1[85:245,150:290]\n",
    "jack=img1[150:320,310:440]\n",
    "\n",
    "temp1=img1[0:170,0:130]\n",
    "temp2=img1[0:170,456:586]\n",
    "\n",
    "img1[0:170,0:130]=img1[85:255,160:290]\n",
    "img1[85:255,160:290]=img1[150:320,310:440]\n",
    "img1[150:320,310:440]=img1[0:170,0:130]\n",
    "img1[0:170,0:130]=img1[0:170,456:586]\n",
    "\n",
    "cv2.imshow('jack and rose',img1)\n",
    "cv2.waitKey(0)\n",
    "cv2.destroyAllWindows()"
   ]
  },
  {
   "cell_type": "code",
   "execution_count": null,
   "id": "80510c22",
   "metadata": {},
   "outputs": [],
   "source": [
    "#----------------------Making rectangle around them---------------------------------#\n",
    "cv2.rectangle(img1,(305,150),(440,320),(255,0,0),thickness=3) #JACK(AFTER SWAP)\n",
    "cv2.rectangle(img1,(155,85),(290,255),(255,0,0),thickness=3)  #ROSE(AFTER SWAP)\n",
    "\n",
    "cv2.imshow('jack and rose',img1)\n",
    "cv2.waitKey(0)\n",
    "cv2.destroyAllWindows()"
   ]
  },
  {
   "cell_type": "code",
   "execution_count": null,
   "id": "0ffe0dc3",
   "metadata": {},
   "outputs": [],
   "source": [
    "#-------------------------Labelling the names_______________________________________#\n",
    "cv2.putText(img1,'ROSE ',(100,305),cv2.FONT_HERSHEY_DUPLEX,2,(255,0,0),2,cv2.LINE_AA) #LABELLING ROSE(AFTER SWAP)\n",
    "cv2.putText(img1,'JACK ',(320,370),cv2.FONT_HERSHEY_DUPLEX,2,(255,0,0),2,cv2.LINE_AA) #LABELLING JACK(AFTER SWAP)\n",
    "\n",
    "\n",
    "\n",
    "cv2.imshow('jack and rose',img1)\n",
    "cv2.waitKey(0)\n",
    "cv2.destroyAllWindows()"
   ]
  },
  {
   "cell_type": "code",
   "execution_count": null,
   "id": "bfe66f17",
   "metadata": {},
   "outputs": [],
   "source": []
  }
 ],
 "metadata": {
  "kernelspec": {
   "display_name": "Python 3",
   "language": "python",
   "name": "python3"
  },
  "language_info": {
   "codemirror_mode": {
    "name": "ipython",
    "version": 3
   },
   "file_extension": ".py",
   "mimetype": "text/x-python",
   "name": "python",
   "nbconvert_exporter": "python",
   "pygments_lexer": "ipython3",
   "version": "3.8.5"
  }
 },
 "nbformat": 4,
 "nbformat_minor": 5
}
