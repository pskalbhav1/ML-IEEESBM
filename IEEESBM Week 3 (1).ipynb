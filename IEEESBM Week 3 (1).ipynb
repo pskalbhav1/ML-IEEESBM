{
 "cells": [
  {
   "cell_type": "code",
   "execution_count": 1,
   "metadata": {},
   "outputs": [],
   "source": [
    "###Importing Required Libraries\n",
    "\n",
    "import numpy as np\n",
    "import pandas as pd\n",
    "import matplotlib.pyplot as plt\n",
    "\n",
    "%matplotlib inline"
   ]
  },
  {
   "cell_type": "code",
   "execution_count": 2,
   "metadata": {},
   "outputs": [
    {
     "data": {
      "text/html": [
       "<div>\n",
       "<style scoped>\n",
       "    .dataframe tbody tr th:only-of-type {\n",
       "        vertical-align: middle;\n",
       "    }\n",
       "\n",
       "    .dataframe tbody tr th {\n",
       "        vertical-align: top;\n",
       "    }\n",
       "\n",
       "    .dataframe thead th {\n",
       "        text-align: right;\n",
       "    }\n",
       "</style>\n",
       "<table border=\"1\" class=\"dataframe\">\n",
       "  <thead>\n",
       "    <tr style=\"text-align: right;\">\n",
       "      <th></th>\n",
       "      <th>YearsExperience</th>\n",
       "      <th>Salary</th>\n",
       "    </tr>\n",
       "  </thead>\n",
       "  <tbody>\n",
       "    <tr>\n",
       "      <th>0</th>\n",
       "      <td>5.9</td>\n",
       "      <td>81363</td>\n",
       "    </tr>\n",
       "    <tr>\n",
       "      <th>1</th>\n",
       "      <td>5.3</td>\n",
       "      <td>83088</td>\n",
       "    </tr>\n",
       "    <tr>\n",
       "      <th>2</th>\n",
       "      <td>6.8</td>\n",
       "      <td>91738</td>\n",
       "    </tr>\n",
       "    <tr>\n",
       "      <th>3</th>\n",
       "      <td>8.7</td>\n",
       "      <td>109431</td>\n",
       "    </tr>\n",
       "    <tr>\n",
       "      <th>4</th>\n",
       "      <td>3.0</td>\n",
       "      <td>60150</td>\n",
       "    </tr>\n",
       "  </tbody>\n",
       "</table>\n",
       "</div>"
      ],
      "text/plain": [
       "   YearsExperience  Salary\n",
       "0              5.9   81363\n",
       "1              5.3   83088\n",
       "2              6.8   91738\n",
       "3              8.7  109431\n",
       "4              3.0   60150"
      ]
     },
     "execution_count": 2,
     "metadata": {},
     "output_type": "execute_result"
    }
   ],
   "source": [
    "###Importing Data from a CSV File to a DataFrame\n",
    "\n",
    "df = pd.read_csv('salary_data.csv')\n",
    "df=df.sample(frac=1)\n",
    "df.index=(range(len(df)))\n",
    "df.head()"
   ]
  },
  {
   "cell_type": "code",
   "execution_count": 3,
   "metadata": {},
   "outputs": [
    {
     "name": "stdout",
     "output_type": "stream",
     "text": [
      "X\n",
      "\n",
      "[ 5.9  5.3  6.8  8.7  3.   1.1  3.7  4.1  6.   9.6  3.9  7.1  9.5  1.5\n",
      "  2.2  3.2  4.9  8.2 10.5  4.   4.   2.9  5.1 10.3  3.2  4.5  7.9  1.3\n",
      "  2.   9. ]\n",
      "\n",
      "\n",
      "Y\n",
      "[ 81363  83088  91738 109431  60150  39343  57189  57081  93940 112635\n",
      "  63218  98273 116969  37731  39891  64445  67938 113812 121872  56957\n",
      "  55794  56642  66029 122391  54445  61111 101302  46205  43525 105582]\n"
     ]
    }
   ],
   "source": [
    "###Converting data into Arrays using Numpy\n",
    "\n",
    "##Splitting the Data into X and Y DataFrames\n",
    "X = np.array(df['YearsExperience'])\n",
    "y = np.array(df['Salary'])\n",
    "\n",
    "print(\"X\")\n",
    "print(\"\")\n",
    "print(X)\n",
    "print(\"\")\n",
    "print(\"\")\n",
    "print(\"Y\")\n",
    "print(y)"
   ]
  },
  {
   "cell_type": "code",
   "execution_count": 4,
   "metadata": {},
   "outputs": [
    {
     "name": "stdout",
     "output_type": "stream",
     "text": [
      "(30, 1)\n",
      "(30, 1)\n"
     ]
    }
   ],
   "source": [
    "X=X.reshape(30,1)\n",
    "y=y.reshape(30,1)\n",
    "print(X.shape)\n",
    "print(y.shape)"
   ]
  },
  {
   "cell_type": "code",
   "execution_count": null,
   "metadata": {},
   "outputs": [],
   "source": []
  },
  {
   "cell_type": "code",
   "execution_count": 5,
   "metadata": {},
   "outputs": [
    {
     "name": "stdout",
     "output_type": "stream",
     "text": [
      "m: 30\n",
      "(30, 2)\n",
      "\n",
      "[[1.  5.9]\n",
      " [1.  5.3]\n",
      " [1.  6.8]\n",
      " [1.  8.7]\n",
      " [1.  3. ]]\n"
     ]
    }
   ],
   "source": [
    "###Making Data suitable for Linear Regression\n",
    "m=X.shape[0]\n",
    "print(\"m:\",m)\n",
    "##Padding X array with ones for the bias term\n",
    "o = np.ones((m,1))\n",
    "X = np.hstack((o,X))\n",
    "print(X.shape)\n",
    "print(\"\")\n",
    "print(X[:5,:])"
   ]
  },
  {
   "cell_type": "code",
   "execution_count": 6,
   "metadata": {},
   "outputs": [],
   "source": [
    "def FeatureNormalization(x):\n",
    "    x = x[:,1:]\n",
    "    m = x.shape[0]\n",
    "    mean = np.mean(x,axis=0)\n",
    "    std = np.std(x,axis=0)\n",
    "    x_norm = (x-mean)/std\n",
    "    o = np.ones((m,1))\n",
    "    x_norm = np.hstack((o,x_norm))\n",
    "    return x_norm,mean,std"
   ]
  },
  {
   "cell_type": "code",
   "execution_count": 7,
   "metadata": {},
   "outputs": [
    {
     "data": {
      "text/plain": [
       "array([[ 1.        ,  0.21026054],\n",
       "       [ 1.        , -0.00477865],\n",
       "       [ 1.        ,  0.53281931],\n",
       "       [ 1.        ,  1.21377673],\n",
       "       [ 1.        , -0.82909552]])"
      ]
     },
     "execution_count": 7,
     "metadata": {},
     "output_type": "execute_result"
    }
   ],
   "source": [
    "##Normalizing the array\n",
    "X_norm,mean,std = FeatureNormalization(X)\n",
    "X_norm[:5,:]"
   ]
  },
  {
   "cell_type": "code",
   "execution_count": 8,
   "metadata": {},
   "outputs": [
    {
     "name": "stdout",
     "output_type": "stream",
     "text": [
      "(24, 2)\n",
      "(24, 1)\n",
      "(6, 2)\n",
      "(6, 1)\n"
     ]
    }
   ],
   "source": [
    "n=int((0.8)*len(X))\n",
    "X_train=X[:n]\n",
    "X_test=X[n:]\n",
    "y_train=y[:n]\n",
    "y_test=y[n:]\n",
    "\n",
    "print(X_train.shape)\n",
    "print(y_train.shape)\n",
    "print(X_test.shape)\n",
    "print(y_test.shape)"
   ]
  },
  {
   "cell_type": "code",
   "execution_count": 9,
   "metadata": {},
   "outputs": [],
   "source": [
    "#Initializing the Parameters\n",
    "def InitialParameters(x):\n",
    "    n = x.shape[1]\n",
    "    theta = np.zeros((n,1))\n",
    "    return theta\n",
    "#InitialParameters(X_train).shape"
   ]
  },
  {
   "cell_type": "code",
   "execution_count": 10,
   "metadata": {},
   "outputs": [],
   "source": [
    "##Cost Function \n",
    "\n",
    "def CostFunction(x,y,theta):\n",
    "    ### Start code here\n",
    "    h = np.dot(x,theta)\n",
    "    m = float(x.shape[0])\n",
    "    J = np.sum((1/(2*m))*(h-y)**2)\n",
    "    return J,h\n",
    "#CostFunction(X_train,Y_train,theta)"
   ]
  },
  {
   "cell_type": "code",
   "execution_count": 11,
   "metadata": {},
   "outputs": [],
   "source": [
    "#Gradient Descent\n",
    "def UpdateParameters(x,y,theta,h,alpha):\n",
    "    ### Start code here\n",
    "    m = float(x.shape[0])\n",
    "    theta =theta-((alpha/m)*(np.dot(x.T,(h-y))))\n",
    "    ### End code here\n",
    "    return theta\n",
    "#UpdateParameters(X_train,Y_train,theta,h,0.01)"
   ]
  },
  {
   "cell_type": "code",
   "execution_count": 45,
   "metadata": {},
   "outputs": [],
   "source": [
    "##Training the model\n",
    "\n",
    "alpha = 0.01\n",
    "itr = 100000\n",
    "\n",
    "theta = InitialParameters(X_train)\n",
    "#print(theta.shape)\n",
    "J_history = []\n",
    "I_history = []\n",
    "\n",
    "for i in range(itr):\n",
    "    J,h = CostFunction(X_train,y_train,theta) # Call cost funtion\n",
    "    J_history.append(J)\n",
    "    #d_theta = GradDescent(X_train,Y_train,theta,h) # Call gradient Descent\n",
    "    #theta = theta-(alpha*np.sum(d_theta)) # Update parameters\n",
    "    theta=UpdateParameters(X_train,y_train,theta,h,alpha)\n",
    "    I_history.append(i)"
   ]
  },
  {
   "cell_type": "code",
   "execution_count": 46,
   "metadata": {},
   "outputs": [
    {
     "data": {
      "image/png": "[encoded data removed]",
      "text/plain": [
       "<Figure size 432x288 with 1 Axes>"
      ]
     },
     "metadata": {
      "needs_background": "light"
     },
     "output_type": "display_data"
    }
   ],
   "source": [
    "J_history = np.array(J_history)\n",
    "J_history = J_history.reshape((itr,1))\n",
    "J_history.shape\n",
    "\n",
    "I_history = np.array(I_history)\n",
    "I_history = I_history.reshape((itr,1))\n",
    "I_history.shape\n",
    "plt.ylabel(\"Cost\")\n",
    "plt.xlabel(\"No. of Iterations\")\n",
    "plt.plot(I_history[:100],J_history[:100])\n",
    "plt.show()"
   ]
  },
  {
   "cell_type": "code",
   "execution_count": 47,
   "metadata": {},
   "outputs": [
    {
     "data": {
      "text/plain": [
       "array([[24968.30540536],\n",
       "       [ 9647.76175111]])"
      ]
     },
     "execution_count": 47,
     "metadata": {},
     "output_type": "execute_result"
    }
   ],
   "source": [
    "theta"
   ]
  },
  {
   "cell_type": "code",
   "execution_count": 48,
   "metadata": {},
   "outputs": [],
   "source": [
    "def mape(y_true,y_pred):\n",
    "    return np.mean(np.abs((y_true - y_pred) / y_true)) *100"
   ]
  },
  {
   "cell_type": "code",
   "execution_count": 49,
   "metadata": {},
   "outputs": [
    {
     "name": "stdout",
     "output_type": "stream",
     "text": [
      "MAPE: 6.830282289162726\n"
     ]
    }
   ],
   "source": [
    "#Testing Set\n",
    "\n",
    "Y_test_predict= np.dot(X_test,theta)\n",
    "mse_test = np.square(np.subtract(y_test,Y_test_predict)).mean()\n",
    "print(\"MAPE:\",mape(y_test,Y_test_predict))"
   ]
  },
  {
   "cell_type": "code",
   "execution_count": 50,
   "metadata": {},
   "outputs": [
    {
     "data": {
      "text/plain": [
       "array([[ 54445],\n",
       "       [ 61111],\n",
       "       [101302],\n",
       "       [ 46205],\n",
       "       [ 43525],\n",
       "       [105582]], dtype=int64)"
      ]
     },
     "execution_count": 50,
     "metadata": {},
     "output_type": "execute_result"
    }
   ],
   "source": [
    "y_test"
   ]
  },
  {
   "cell_type": "code",
   "execution_count": 51,
   "metadata": {},
   "outputs": [
    {
     "data": {
      "text/plain": [
       "array([[ 55841.14300892],\n",
       "       [ 68383.23328537],\n",
       "       [101185.62323915],\n",
       "       [ 37510.39568181],\n",
       "       [ 44263.82890759],\n",
       "       [111798.16116538]])"
      ]
     },
     "execution_count": 51,
     "metadata": {},
     "output_type": "execute_result"
    }
   ],
   "source": [
    "Y_test_predict"
   ]
  },
  {
   "cell_type": "code",
   "execution_count": null,
   "metadata": {},
   "outputs": [],
   "source": []
  }
 ],
 "metadata": {
  "kernelspec": {
   "display_name": "Python 3",
   "language": "python",
   "name": "python3"
  },
  "language_info": {
   "codemirror_mode": {
    "name": "ipython",
    "version": 3
   },
   "file_extension": ".py",
   "mimetype": "text/x-python",
   "name": "python",
   "nbconvert_exporter": "python",
   "pygments_lexer": "ipython3",
   "version": "3.8.3"
  }
 },
 "nbformat": 4,
 "nbformat_minor": 4
}
