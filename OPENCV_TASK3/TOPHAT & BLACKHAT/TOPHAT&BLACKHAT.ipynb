{
 "cells": [
  {
   "cell_type": "code",
   "execution_count": 1,
   "id": "7024deb4",
   "metadata": {},
   "outputs": [],
   "source": [
    "import cv2\n",
    "import numpy as np"
   ]
  },
  {
   "cell_type": "code",
   "execution_count": 6,
   "id": "c2f918fd",
   "metadata": {},
   "outputs": [],
   "source": [
    "img1=cv2.imread('sp.png')"
   ]
  },
  {
   "cell_type": "code",
   "execution_count": 3,
   "id": "e5550902",
   "metadata": {},
   "outputs": [],
   "source": [
    "kernel = np.ones((15, 15), np.float32) / 225\n",
    "gray1= cv2.cvtColor(img1, cv2.COLOR_BGR2GRAY)\n",
    "tophat_img = cv2.morphologyEx(gray1,cv2.MORPH_TOPHAT,kernel)\n",
    "blackhat_img=cv2.morphologyEx(gray1,cv2.MORPH_BLACKHAT,kernel)"
   ]
  },
  {
   "cell_type": "code",
   "execution_count": 4,
   "id": "7a2f68b2",
   "metadata": {},
   "outputs": [],
   "source": [
    "cv2.imshow(\"original\", img1)\n",
    "cv2.imshow(\"tophat\", tophat_img)\n",
    "cv2.imshow(\"blackhat\",blackhat_img)"
   ]
  },
  {
   "cell_type": "code",
   "execution_count": 5,
   "id": "5e7612a3",
   "metadata": {},
   "outputs": [],
   "source": [
    "cv2.waitKey(0)\n",
    "cv2.destroyAllWindows()"
   ]
  },
  {
   "cell_type": "code",
   "execution_count": null,
   "id": "573df319",
   "metadata": {},
   "outputs": [],
   "source": []
  }
 ],
 "metadata": {
  "kernelspec": {
   "display_name": "Python 3",
   "language": "python",
   "name": "python3"
  },
  "language_info": {
   "codemirror_mode": {
    "name": "ipython",
    "version": 3
   },
   "file_extension": ".py",
   "mimetype": "text/x-python",
   "name": "python",
   "nbconvert_exporter": "python",
   "pygments_lexer": "ipython3",
   "version": "3.8.5"
  }
 },
 "nbformat": 4,
 "nbformat_minor": 5
}
