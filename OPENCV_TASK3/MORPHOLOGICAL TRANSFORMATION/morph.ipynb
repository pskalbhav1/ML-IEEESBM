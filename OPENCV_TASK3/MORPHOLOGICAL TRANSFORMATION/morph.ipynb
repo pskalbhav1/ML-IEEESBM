{
 "cells": [
  {
   "cell_type": "code",
   "execution_count": 1,
   "id": "8bbeb18a",
   "metadata": {},
   "outputs": [],
   "source": [
    "import cv2\n",
    "import numpy as np"
   ]
  },
  {
   "cell_type": "code",
   "execution_count": 2,
   "id": "ad713a28",
   "metadata": {},
   "outputs": [],
   "source": [
    "#--------------------------Reading video and setting frame---------------------------------#\n",
    "cap=cv2.VideoCapture('BULL.MOV')\n",
    "\n",
    "fourcc=cv2.VideoWriter_fourcc(*'XVID')\n",
    "out1=cv2.VideoWriter('erosion.avi',fourcc,20.0,(1920,1440))\n",
    "out2=cv2.VideoWriter('dilation.avi',fourcc,20.0,(1920,1440))\n",
    "out3=cv2.VideoWriter('opening.avi',fourcc,20.0,(1920,1440))\n",
    "out4=cv2.VideoWriter('closing.avi',fourcc,20.0,(1920,1440))"
   ]
  },
  {
   "cell_type": "code",
   "execution_count": 3,
   "id": "34eeebae",
   "metadata": {},
   "outputs": [
    {
     "ename": "error",
     "evalue": "OpenCV(4.5.2) /private/var/folders/24/8k48jl6d249_n_qfxwsl6xvm0000gn/T/pip-req-build-0x3h2khn/opencv/modules/imgproc/src/color.cpp:182: error: (-215:Assertion failed) !_src.empty() in function 'cvtColor'\n",
     "output_type": "error",
     "traceback": [
      "\u001b[0;31m---------------------------------------------------------------------------\u001b[0m",
      "\u001b[0;31merror\u001b[0m                                     Traceback (most recent call last)",
      "\u001b[0;32m<ipython-input-3-477c0e0f3c10>\u001b[0m in \u001b[0;36m<module>\u001b[0;34m\u001b[0m\n\u001b[1;32m      3\u001b[0m \u001b[0;32mwhile\u001b[0m \u001b[0;32mTrue\u001b[0m\u001b[0;34m:\u001b[0m\u001b[0;34m\u001b[0m\u001b[0;34m\u001b[0m\u001b[0m\n\u001b[1;32m      4\u001b[0m     \u001b[0m_\u001b[0m\u001b[0;34m,\u001b[0m\u001b[0mframe\u001b[0m\u001b[0;34m=\u001b[0m\u001b[0mcap\u001b[0m\u001b[0;34m.\u001b[0m\u001b[0mread\u001b[0m\u001b[0;34m(\u001b[0m\u001b[0;34m)\u001b[0m\u001b[0;34m\u001b[0m\u001b[0;34m\u001b[0m\u001b[0m\n\u001b[0;32m----> 5\u001b[0;31m     \u001b[0mhsv\u001b[0m\u001b[0;34m=\u001b[0m\u001b[0mcv2\u001b[0m\u001b[0;34m.\u001b[0m\u001b[0mcvtColor\u001b[0m\u001b[0;34m(\u001b[0m\u001b[0mframe\u001b[0m\u001b[0;34m,\u001b[0m\u001b[0mcv2\u001b[0m\u001b[0;34m.\u001b[0m\u001b[0mCOLOR_BGR2HSV\u001b[0m\u001b[0;34m)\u001b[0m\u001b[0;34m\u001b[0m\u001b[0;34m\u001b[0m\u001b[0m\n\u001b[0m\u001b[1;32m      6\u001b[0m \u001b[0;34m\u001b[0m\u001b[0m\n\u001b[1;32m      7\u001b[0m \u001b[0;34m\u001b[0m\u001b[0m\n",
      "\u001b[0;31merror\u001b[0m: OpenCV(4.5.2) /private/var/folders/24/8k48jl6d249_n_qfxwsl6xvm0000gn/T/pip-req-build-0x3h2khn/opencv/modules/imgproc/src/color.cpp:182: error: (-215:Assertion failed) !_src.empty() in function 'cvtColor'\n"
     ]
    }
   ],
   "source": [
    "#----------------converting color to HSV and setting the limits-------------------------------#\n",
    "\n",
    "while True:\n",
    "    _,frame=cap.read()\n",
    "    hsv=cv2.cvtColor(frame,cv2.COLOR_BGR2HSV)\n",
    "\n",
    "\n",
    "    lower_red=np.array([50,50,15])\n",
    "    upper_red=np.array([255,255,255])\n",
    "\n",
    "\n",
    "    #----------------------making mask and res----------------------------------------------#\n",
    "    mask=cv2.inRange(hsv,lower_red,upper_red)\n",
    "    res=cv2.bitwise_and(frame,frame,mask=mask)\n",
    "\n",
    "    #------------------------SETTING UP Morphological transformation------------------#\n",
    "    kernel=np.ones((5,5),np.uint8)\n",
    "    erosion=cv2.erode(mask,kernel,iterations=1)\n",
    "    dilation=cv2.dilate(mask,kernel,iterations=1)\n",
    "    opening=cv2.morphologyEx(mask,cv2.MORPH_OPEN,kernel)\n",
    "    closing=cv2.morphologyEx(mask,cv2.MORPH_CLOSE,kernel)\n",
    "\n",
    "    #-----------------------writing and using imshow to display-----------------------------------------#\n",
    "\n",
    "    out1.write(erosion)\n",
    "    out2.write(dilation)\n",
    "    out3.write(opening)\n",
    "    out4.write(closing)\n",
    "    \n",
    "\n",
    "\n",
    "\n",
    "\n",
    "    \n",
    "    cv2.imshow('res',res)\n",
    "    cv2.imshow('erosion',erosion)\n",
    "    cv2.imshow('dilation',dilation)\n",
    "    \n",
    "\n",
    "\n",
    "    if cv2.waitKey(20) & 0xFF==ord('q'):\n",
    "        break"
   ]
  },
  {
   "cell_type": "code",
   "execution_count": null,
   "id": "980f5b5a",
   "metadata": {},
   "outputs": [],
   "source": [
    "cap.release()\n",
    "out1.release()\n",
    "out2.release()\n",
    "out3.release()\n",
    "out4.release()\n",
    "cv2.destroyAllWindows()"
   ]
  },
  {
   "cell_type": "code",
   "execution_count": null,
   "id": "370d0479",
   "metadata": {},
   "outputs": [],
   "source": []
  }
 ],
 "metadata": {
  "kernelspec": {
   "display_name": "Python 3",
   "language": "python",
   "name": "python3"
  },
  "language_info": {
   "codemirror_mode": {
    "name": "ipython",
    "version": 3
   },
   "file_extension": ".py",
   "mimetype": "text/x-python",
   "name": "python",
   "nbconvert_exporter": "python",
   "pygments_lexer": "ipython3",
   "version": "3.8.5"
  }
 },
 "nbformat": 4,
 "nbformat_minor": 5
}
