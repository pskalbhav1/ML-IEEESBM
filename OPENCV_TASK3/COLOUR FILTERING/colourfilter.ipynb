{
 "cells": [
  {
   "cell_type": "code",
   "execution_count": 11,
   "id": "0f58d8d0",
   "metadata": {},
   "outputs": [],
   "source": [
    "#----------------------------------------COLOUR FILTERING------------------------------------#\n",
    "import cv2\n",
    "import numpy as np"
   ]
  },
  {
   "cell_type": "code",
   "execution_count": 12,
   "id": "492638ee",
   "metadata": {},
   "outputs": [],
   "source": [
    "#--------------------------Reading video and setting frame---------------------------------#\n",
    "cap=cv2.VideoCapture('BULL.MOV')\n",
    "cap.set(cv2.CAP_PROP_FRAME_WIDTH,640)\n",
    "cap.set(cv2.CAP_PROP_FRAME_HEIGHT,480)\n",
    "fourcc=cv2.VideoWriter_fourcc(*'XVID')\n",
    "out=cv2.VideoWriter('colorfilter.avi',fourcc,20.0,(640,480))\n"
   ]
  },
  {
   "cell_type": "code",
   "execution_count": null,
   "id": "38ee427e",
   "metadata": {},
   "outputs": [],
   "source": [
    "#----------------converting color to HSV and setting the limits-------------------------------#\n",
    "while True:\n",
    "\n",
    "    _,frame=cap.read()\n",
    "    hsv=cv2.cvtColor(frame,cv2.COLOR_BGR2HSV)\n",
    "\n",
    "\n",
    "    lower_red=np.array([50,50,20])\n",
    "    upper_red=np.array([255,255,255])\n",
    "\n",
    "    \n",
    "    #----------------------making mask and res----------------------------------------------#\n",
    "    mask=cv2.inRange(hsv,lower_red,upper_red)\n",
    "    res=cv2.bitwise_and(frame,frame,mask=mask)\n",
    "    \n",
    "    #-----------------------writing and using imshow to display-----------------------------------------#\n",
    "    \n",
    "    \n",
    "    out.write(res)\n",
    "    out.write(mask)\n",
    "\n",
    "    cv2.imshow('mask',mask)\n",
    "    cv2.imshow('res',res)\n",
    "    \n",
    "    \n",
    "    if cv2.waitKey(5) & 0xFF==ord('q'):\n",
    "        break"
   ]
  },
  {
   "cell_type": "code",
   "execution_count": null,
   "id": "70ca4dbe",
   "metadata": {},
   "outputs": [],
   "source": [
    "\n",
    "cv2.destroyAllWindow()\n",
    "cap.release()\n",
    "out.release()"
   ]
  },
  {
   "cell_type": "code",
   "execution_count": null,
   "id": "e2c2f3a5",
   "metadata": {},
   "outputs": [],
   "source": []
  }
 ],
 "metadata": {
  "kernelspec": {
   "display_name": "Python 3",
   "language": "python",
   "name": "python3"
  },
  "language_info": {
   "codemirror_mode": {
    "name": "ipython",
    "version": 3
   },
   "file_extension": ".py",
   "mimetype": "text/x-python",
   "name": "python",
   "nbconvert_exporter": "python",
   "pygments_lexer": "ipython3",
   "version": "3.8.5"
  }
 },
 "nbformat": 4,
 "nbformat_minor": 5
}
