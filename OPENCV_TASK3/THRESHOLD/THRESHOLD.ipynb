{
 "cells": [
  {
   "cell_type": "code",
   "execution_count": 6,
   "id": "dfbfae0e",
   "metadata": {},
   "outputs": [],
   "source": [
    "import cv2\n",
    "import numpy\n"
   ]
  },
  {
   "cell_type": "code",
   "execution_count": 7,
   "id": "562f61d5",
   "metadata": {},
   "outputs": [],
   "source": [
    "#-----------------------------READING IMAGE---------------------------------------#\n",
    "img=cv2.imread('sp.png')"
   ]
  },
  {
   "cell_type": "code",
   "execution_count": 8,
   "id": "58fbb118",
   "metadata": {},
   "outputs": [],
   "source": [
    "#--------------------------------NORMAL THRESHOLD IMAGE----------------------------#\n",
    "retval,threshold=cv2.threshold(img,10,255,cv2.THRESH_BINARY)\n"
   ]
  },
  {
   "cell_type": "code",
   "execution_count": 9,
   "id": "c619a698",
   "metadata": {},
   "outputs": [],
   "source": [
    "#------------------------------ADATIVE THRESHOLD IMAGE------------------------------#\n",
    "\n",
    "grayscale=cv2.cvtColor(img,cv2.COLOR_BGR2GRAY)\n",
    "\n",
    "adative=cv2.adaptiveThreshold(grayscale,255,cv2.ADAPTIVE_THRESH_GAUSSIAN_C,cv2.THRESH_BINARY,115,1)\n"
   ]
  },
  {
   "cell_type": "code",
   "execution_count": null,
   "id": "c3b43492",
   "metadata": {},
   "outputs": [],
   "source": [
    "#---------------------------------------------DISPLAYING ALL IMAGE----------------------------------#\n",
    "cv2.imshow('Original',img)\n",
    "cv2.imshow('threshold',threshold)\n",
    "cv2.imshow('adative',adative)\n",
    "cv2.waitKey(0)\n",
    "cv2.destroyAllWindows()\n"
   ]
  },
  {
   "cell_type": "code",
   "execution_count": null,
   "id": "d3c49e86",
   "metadata": {},
   "outputs": [],
   "source": []
  }
 ],
 "metadata": {
  "kernelspec": {
   "display_name": "Python 3",
   "language": "python",
   "name": "python3"
  },
  "language_info": {
   "codemirror_mode": {
    "name": "ipython",
    "version": 3
   },
   "file_extension": ".py",
   "mimetype": "text/x-python",
   "name": "python",
   "nbconvert_exporter": "python",
   "pygments_lexer": "ipython3",
   "version": "3.8.5"
  }
 },
 "nbformat": 4,
 "nbformat_minor": 5
}
