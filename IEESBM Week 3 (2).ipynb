{
 "cells": [
  {
   "cell_type": "code",
   "execution_count": 1,
   "metadata": {},
   "outputs": [],
   "source": [
    "###Importing Required Libraries\n",
    "\n",
    "import numpy as np\n",
    "import pandas as pd\n",
    "import matplotlib.pyplot as plt\n",
    "\n",
    "%matplotlib inline"
   ]
  },
  {
   "cell_type": "code",
   "execution_count": 2,
   "metadata": {},
   "outputs": [
    {
     "data": {
      "text/html": [
       "<div>\n",
       "<style scoped>\n",
       "    .dataframe tbody tr th:only-of-type {\n",
       "        vertical-align: middle;\n",
       "    }\n",
       "\n",
       "    .dataframe tbody tr th {\n",
       "        vertical-align: top;\n",
       "    }\n",
       "\n",
       "    .dataframe thead th {\n",
       "        text-align: right;\n",
       "    }\n",
       "</style>\n",
       "<table border=\"1\" class=\"dataframe\">\n",
       "  <thead>\n",
       "    <tr style=\"text-align: right;\">\n",
       "      <th></th>\n",
       "      <th>RM</th>\n",
       "      <th>LSTAT</th>\n",
       "      <th>PTRATIO</th>\n",
       "      <th>MEDV</th>\n",
       "    </tr>\n",
       "  </thead>\n",
       "  <tbody>\n",
       "    <tr>\n",
       "      <th>0</th>\n",
       "      <td>5.935</td>\n",
       "      <td>34.02</td>\n",
       "      <td>20.2</td>\n",
       "      <td>176400.0</td>\n",
       "    </tr>\n",
       "    <tr>\n",
       "      <th>1</th>\n",
       "      <td>5.990</td>\n",
       "      <td>14.67</td>\n",
       "      <td>21.0</td>\n",
       "      <td>367500.0</td>\n",
       "    </tr>\n",
       "    <tr>\n",
       "      <th>2</th>\n",
       "      <td>6.824</td>\n",
       "      <td>22.74</td>\n",
       "      <td>20.2</td>\n",
       "      <td>176400.0</td>\n",
       "    </tr>\n",
       "    <tr>\n",
       "      <th>3</th>\n",
       "      <td>6.750</td>\n",
       "      <td>7.74</td>\n",
       "      <td>20.2</td>\n",
       "      <td>497700.0</td>\n",
       "    </tr>\n",
       "    <tr>\n",
       "      <th>4</th>\n",
       "      <td>6.406</td>\n",
       "      <td>19.52</td>\n",
       "      <td>20.2</td>\n",
       "      <td>359100.0</td>\n",
       "    </tr>\n",
       "  </tbody>\n",
       "</table>\n",
       "</div>"
      ],
      "text/plain": [
       "      RM  LSTAT  PTRATIO      MEDV\n",
       "0  5.935  34.02     20.2  176400.0\n",
       "1  5.990  14.67     21.0  367500.0\n",
       "2  6.824  22.74     20.2  176400.0\n",
       "3  6.750   7.74     20.2  497700.0\n",
       "4  6.406  19.52     20.2  359100.0"
      ]
     },
     "execution_count": 2,
     "metadata": {},
     "output_type": "execute_result"
    }
   ],
   "source": [
    "###Importing Data from a CSV File to a DataFrame\n",
    "\n",
    "df = pd.read_csv('housing.csv')\n",
    "df=df.sample(frac=1)\n",
    "df.index=(range(len(df)))\n",
    "df.head()"
   ]
  },
  {
   "cell_type": "code",
   "execution_count": 3,
   "metadata": {},
   "outputs": [
    {
     "name": "stdout",
     "output_type": "stream",
     "text": [
      "X\n",
      "\n",
      "[[ 5.935 34.02  20.2  ]\n",
      " [ 5.99  14.67  21.   ]\n",
      " [ 6.824 22.74  20.2  ]\n",
      " ...\n",
      " [ 6.021 10.3   17.8  ]\n",
      " [ 5.935  6.58  21.   ]\n",
      " [ 6.395 13.27  20.2  ]]\n",
      "\n",
      "\n",
      "Y\n",
      "[ 176400.  367500.  176400.  497700.  359100.  289800.  275100.  468300.\n",
      "  422100.  783300.  474600.  445200.  472500.  462000.  577500.  697200.\n",
      "  369600.  781200.  373800.  405300.  449400.  338100.  338100.  310800.\n",
      "  611100.  275100.  462000.  428400.  432600.  760200.  415800.  436800.\n",
      "  640500.  726600.  709800.  766500.  455700.  621600.  214200.  432600.\n",
      "  346500.  499800.  147000.  344400.  411600.  151200.  459900.  283500.\n",
      "  411600.  266700.  888300.  764400.  445200.  499800.  445200.  340200.\n",
      "  789600.  359100.  327600.  690900.  695100.  436800.  560700.  302400.\n",
      "  464100.  867300.  453600.  279300.  407400.  390600.  117600.  336000.\n",
      "  493500.  737100.  396900.  373800.  953400.  361200.  661500.  449400.\n",
      "  392700.  480900.  558600.  304500.  590100.  512400.  426300.  651000.\n",
      "  569100.  525000.  646800.  636300.  306600.  388500.  327600.  665700.\n",
      "  621600.  611100.  672000.  449400.  218400.  732900.  327600.  420000.\n",
      "  760200.  378000.  491400.  506100.  285600.  174300.  407400.  105000.\n",
      "  627900.  361200.  451500.  485100.  512400.  178500. 1024800.  455700.\n",
      "  415800.  743400.  504000.  441000.  443100.  262500.  258300.  401100.\n",
      "  449400.  409500.  220500.  432600.  245700.  321300.  476700.  413700.\n",
      "  178500.  966000.  241500.  499800.  474600.  424200.  300300.  273000.\n",
      "  249900.  327600.  602700.  602700.  485100.  174300.  409500.  422100.\n",
      "  510300.  405300.  472500.  428400.  480900.  558600.  247800.  392700.\n",
      "  298200.  151200.  348600.  474600.  384300.  483000.  489300.  359100.\n",
      "  632100.  525000.  386400.  411600.  147000.  499800.  426300.  422100.\n",
      "  489300.  388500.  399000.  432600.  249900.  617400.  302400.  672000.\n",
      "  520800.  365400.  457800.  483000.  441000.  170100.  323400.  254100.\n",
      "  470400.  214200.  596400.  485100.  455700.  462000.  264600.  428400.\n",
      "  315000.  520800.  506100.  525000.  756000.  462000.  739200.  430500.\n",
      "  346500.  495600.  348600.  732900.  319200.  701400.  399000.  220500.\n",
      "  403200.  632100.  315000.  312900.  319200.  304500.  361200.  424200.\n",
      "  432600.  430500.  491400.  466200.  554400.  306600.  585900.  487200.\n",
      "  924000.  497700.  182700.  281400.  588000.  417900.  625800.  420000.\n",
      "  289800.  504000.  405300.  312900.  420000.  506100.  417900.  426300.\n",
      "  201600.  405300.  392700.  550200.  478800.  556500.  281400.  468300.\n",
      "  203700.  226800.  296100.  365400. 1018500.  245700.  485100.  470400.\n",
      "  405300.  462000.  600600.  285600.  386400.  483000.  323400.  407400.\n",
      "  518700.  455700.  512400.  132300.  407400.  252000.  438900.  422100.\n",
      "  686700.  296100.  390600.  317100.  743400.  436800.  558600.  411600.\n",
      "  510300.  371700.  501900.  365400.  352800.  340200.  401100.  409500.\n",
      "  275100.  388500.  495600.  525000.  485100.  697200.  531300.  732900.\n",
      "  758100.  237300.  279300.  680400.  428400.  777000.  438900.  480900.\n",
      "  300300.  577500.  525000.  434700.  417900.  415800.  420000.  247800.\n",
      "  350700.  663600.  898800.  386400.  497700.  489300.  291900.  281400.\n",
      "  432600.  426300.  352800.  514500.  480900.  315000.  279300.  413700.\n",
      "  520800.  812700.  501900.  367500.  231000.  289800.  518700.  294000.\n",
      "  701400.  525000.  451500.  518700.  266700.  455700.  585900.  598500.\n",
      "  474600.  329700.  795900.  342300.  501900.  466200. 1014300.  520800.\n",
      "  382200.  105000.  905100.  483000.  655200.  462000.  462000.  980700.\n",
      "  382200.  394800.  514500.  218400.  422100.  373800.  632100.  445200.\n",
      "  445200.  228900.  312900.  487200.  443100.  508200.  396900.  184800.\n",
      "  184800.  525000.  228900.  199500.  281400.  527100.  157500.  497700.\n",
      "  663600.  940800.  514500.  474600.  693000.  401100.  919800.  466200.\n",
      "  266700.  609000.  661500.  516600.  350700.  304500.  510300.  485100.\n",
      "  554400.  567000.  489300.  476700.  596400.  501900.  357000.  407400.\n",
      "  434700.  291900.  472500.  289800.  455700.  388500.  277200.  441000.\n",
      "  449400.  373800.  569100.  411600.  487200.  367500.  592200.  396900.\n",
      "  380100.  407400.  728700.  382200.  529200.  676200.  487200.  625800.\n",
      "  296100.  459900.  363300.  609000.  453600.  457800.  214200.  394800.\n",
      "  516600.  283500.  875700.  401100.  501900.  373800.  327600.  478800.\n",
      "  289800.  512400.  478800.  396900.  682500.  384300.  268800.  577500.\n",
      "  525000.  699300.  466200.  835800.  417900.  151200.  375900.  644700.\n",
      "  275100.  478800.  155400.  319200.  602700.  409500.  338100.  466200.\n",
      "  577500.  913500.  653100.  695100.  430500.  420000.  403200.  485100.\n",
      "  455700.]\n"
     ]
    }
   ],
   "source": [
    "###Converting data into Arrays using Numpy\n",
    "\n",
    "##Splitting the Data into X and Y DataFrames\n",
    "X = np.array(df.iloc[:,:-1])\n",
    "y = np.array(df['MEDV'])\n",
    "\n",
    "print(\"X\")\n",
    "print(\"\")\n",
    "print(X)\n",
    "print(\"\")\n",
    "print(\"\")\n",
    "print(\"Y\")\n",
    "print(y)"
   ]
  },
  {
   "cell_type": "code",
   "execution_count": 4,
   "metadata": {},
   "outputs": [
    {
     "data": {
      "text/plain": [
       "(489, 3)"
      ]
     },
     "execution_count": 4,
     "metadata": {},
     "output_type": "execute_result"
    }
   ],
   "source": [
    "X.shape"
   ]
  },
  {
   "cell_type": "code",
   "execution_count": 5,
   "metadata": {},
   "outputs": [
    {
     "name": "stdout",
     "output_type": "stream",
     "text": [
      "(489, 3)\n",
      "(489, 1)\n"
     ]
    }
   ],
   "source": [
    "X=X.reshape(489,3)\n",
    "y=y.reshape(489,1)\n",
    "print(X.shape)\n",
    "print(y.shape)"
   ]
  },
  {
   "cell_type": "code",
   "execution_count": null,
   "metadata": {},
   "outputs": [],
   "source": []
  },
  {
   "cell_type": "code",
   "execution_count": 6,
   "metadata": {},
   "outputs": [
    {
     "name": "stdout",
     "output_type": "stream",
     "text": [
      "m: 489\n",
      "(489, 4)\n",
      "\n",
      "[[ 1.     5.935 34.02  20.2  ]\n",
      " [ 1.     5.99  14.67  21.   ]\n",
      " [ 1.     6.824 22.74  20.2  ]\n",
      " [ 1.     6.75   7.74  20.2  ]\n",
      " [ 1.     6.406 19.52  20.2  ]]\n"
     ]
    }
   ],
   "source": [
    "###Making Data suitable for Linear Regression\n",
    "m=X.shape[0]\n",
    "print(\"m:\",m)\n",
    "##Padding X array with ones for the bias term\n",
    "o = np.ones((m,1))\n",
    "X = np.hstack((o,X))\n",
    "print(X.shape)\n",
    "print(\"\")\n",
    "print(X[:5,:])"
   ]
  },
  {
   "cell_type": "code",
   "execution_count": 7,
   "metadata": {},
   "outputs": [],
   "source": [
    "def FeatureNormalization(x):\n",
    "    x = x[:,1:]\n",
    "    m = x.shape[0]\n",
    "    mean = np.mean(x,axis=0)\n",
    "    std = np.std(x,axis=0)\n",
    "    x_norm = (x-mean)/std\n",
    "    o = np.ones((m,1))\n",
    "    x_norm = np.hstack((o,x_norm))\n",
    "    return x_norm,mean,std"
   ]
  },
  {
   "cell_type": "code",
   "execution_count": 8,
   "metadata": {},
   "outputs": [
    {
     "data": {
      "text/plain": [
       "array([[ 1.        , -0.4747939 ,  2.97966481,  0.79817433],\n",
       "       [ 1.        , -0.38925619,  0.24458382,  1.17748167],\n",
       "       [ 1.        ,  0.90780646,  1.38526101,  0.79817433],\n",
       "       [ 1.        ,  0.79271937, -0.73495682,  0.79817433],\n",
       "       [ 1.        ,  0.25771991,  0.93012092,  0.79817433]])"
      ]
     },
     "execution_count": 8,
     "metadata": {},
     "output_type": "execute_result"
    }
   ],
   "source": [
    "##Normalizing the array\n",
    "X,mean,std = FeatureNormalization(X)\n",
    "X[:5,:]"
   ]
  },
  {
   "cell_type": "code",
   "execution_count": 9,
   "metadata": {},
   "outputs": [
    {
     "name": "stdout",
     "output_type": "stream",
     "text": [
      "(391, 4)\n",
      "(391, 1)\n",
      "(98, 4)\n",
      "(98, 1)\n"
     ]
    }
   ],
   "source": [
    "n=int((0.8)*len(X))\n",
    "X_train=X[:n]\n",
    "X_test=X[n:]\n",
    "y_train=y[:n]\n",
    "y_test=y[n:]\n",
    "\n",
    "print(X_train.shape)\n",
    "print(y_train.shape)\n",
    "print(X_test.shape)\n",
    "print(y_test.shape)"
   ]
  },
  {
   "cell_type": "code",
   "execution_count": 10,
   "metadata": {},
   "outputs": [],
   "source": [
    "#Initializing the Parameters\n",
    "def InitialParameters(x):\n",
    "    n = x.shape[1]\n",
    "    theta = np.zeros((n,1))\n",
    "    return theta\n",
    "#InitialParameters(X_train).shape"
   ]
  },
  {
   "cell_type": "code",
   "execution_count": 11,
   "metadata": {},
   "outputs": [],
   "source": [
    "##Cost Function \n",
    "\n",
    "def CostFunction(x,y,theta):\n",
    "    ### Start code here\n",
    "    h = np.dot(x,theta)\n",
    "    m = float(x.shape[0])\n",
    "    J = np.sum((1/(2*m))*(h-y)**2)\n",
    "    return J,h\n",
    "#CostFunction(X_train,Y_train,theta)"
   ]
  },
  {
   "cell_type": "code",
   "execution_count": 12,
   "metadata": {},
   "outputs": [],
   "source": [
    "#Gradient Descent\n",
    "def UpdateParameters(x,y,theta,h,alpha):\n",
    "    ### Start code here\n",
    "    m = float(x.shape[0])\n",
    "    theta =theta-((alpha/m)*(np.dot(x.T,(h-y))))\n",
    "    ### End code here\n",
    "    return theta\n",
    "#UpdateParameters(X_train,Y_train,theta,h,0.01)"
   ]
  },
  {
   "cell_type": "code",
   "execution_count": 13,
   "metadata": {},
   "outputs": [],
   "source": [
    "##Training the model\n",
    "\n",
    "alpha = 0.1\n",
    "itr = 100000\n",
    "\n",
    "theta = InitialParameters(X_train)\n",
    "#print(theta.shape)\n",
    "J_history = []\n",
    "I_history = []\n",
    "\n",
    "for i in range(itr):\n",
    "    J,h = CostFunction(X_train,y_train,theta) # Call cost funtion\n",
    "    J_history.append(J)\n",
    "    #d_theta = GradDescent(X_train,Y_train,theta,h) # Call gradient Descent\n",
    "    #theta = theta-(alpha*np.sum(d_theta)) # Update parameters\n",
    "    theta=UpdateParameters(X_train,y_train,theta,h,alpha)\n",
    "    I_history.append(i)"
   ]
  },
  {
   "cell_type": "code",
   "execution_count": 14,
   "metadata": {},
   "outputs": [
    {
     "data": {
      "image/png": "[encoded data removed]",
      "text/plain": [
       "<Figure size 432x288 with 1 Axes>"
      ]
     },
     "metadata": {
      "needs_background": "light"
     },
     "output_type": "display_data"
    }
   ],
   "source": [
    "J_history = np.array(J_history)\n",
    "J_history = J_history.reshape((itr,1))\n",
    "J_history.shape\n",
    "\n",
    "I_history = np.array(I_history)\n",
    "I_history = I_history.reshape((itr,1))\n",
    "I_history.shape\n",
    "plt.ylabel(\"Cost\")\n",
    "plt.xlabel(\"No. of Iterations\")\n",
    "plt.plot(I_history[:100],J_history[:100])\n",
    "plt.show()"
   ]
  },
  {
   "cell_type": "code",
   "execution_count": 15,
   "metadata": {},
   "outputs": [
    {
     "data": {
      "text/plain": [
       "array([[450785.10510266],\n",
       "       [ 62007.19349117],\n",
       "       [-76303.02170089],\n",
       "       [-43320.73063001]])"
      ]
     },
     "execution_count": 15,
     "metadata": {},
     "output_type": "execute_result"
    }
   ],
   "source": [
    "theta"
   ]
  },
  {
   "cell_type": "code",
   "execution_count": 16,
   "metadata": {},
   "outputs": [],
   "source": [
    "def mape(y_true,y_pred):\n",
    "    return np.mean(np.abs((y_true - y_pred) / y_true)) *100"
   ]
  },
  {
   "cell_type": "code",
   "execution_count": 17,
   "metadata": {},
   "outputs": [
    {
     "name": "stdout",
     "output_type": "stream",
     "text": [
      "MAPE: 16.653604698971247\n"
     ]
    }
   ],
   "source": [
    "#Testing Set\n",
    "\n",
    "Y_test_predict= np.dot(X_test,theta)\n",
    "mse_test = np.square(np.subtract(y_test,Y_test_predict)).mean()\n",
    "print(\"MAPE:\",mape(y_test,Y_test_predict))"
   ]
  },
  {
   "cell_type": "code",
   "execution_count": 18,
   "metadata": {},
   "outputs": [
    {
     "data": {
      "text/plain": [
       "array([[497700.],\n",
       "       [663600.],\n",
       "       [940800.],\n",
       "       [514500.],\n",
       "       [474600.]])"
      ]
     },
     "execution_count": 18,
     "metadata": {},
     "output_type": "execute_result"
    }
   ],
   "source": [
    "y_test[:5]"
   ]
  },
  {
   "cell_type": "code",
   "execution_count": 19,
   "metadata": {},
   "outputs": [
    {
     "data": {
      "text/plain": [
       "array([[584327.27667162],\n",
       "       [673435.42739449],\n",
       "       [763976.08649209],\n",
       "       [594952.9590195 ],\n",
       "       [488968.7091327 ]])"
      ]
     },
     "execution_count": 19,
     "metadata": {},
     "output_type": "execute_result"
    }
   ],
   "source": [
    "Y_test_predict[:5]"
   ]
  },
  {
   "cell_type": "code",
   "execution_count": null,
   "metadata": {},
   "outputs": [],
   "source": []
  },
  {
   "cell_type": "code",
   "execution_count": null,
   "metadata": {},
   "outputs": [],
   "source": []
  }
 ],
 "metadata": {
  "kernelspec": {
   "display_name": "Python 3",
   "language": "python",
   "name": "python3"
  },
  "language_info": {
   "codemirror_mode": {
    "name": "ipython",
    "version": 3
   },
   "file_extension": ".py",
   "mimetype": "text/x-python",
   "name": "python",
   "nbconvert_exporter": "python",
   "pygments_lexer": "ipython3",
   "version": "3.8.3"
  }
 },
 "nbformat": 4,
 "nbformat_minor": 4
}
